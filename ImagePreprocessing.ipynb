{
 "cells": [
  {
   "cell_type": "code",
   "execution_count": 1,
   "id": "e1a95b23",
   "metadata": {},
   "outputs": [],
   "source": [
    "import os\n",
    "import glob\n",
    "import numpy as np\n",
    "import pandas as pd\n",
    "import seaborn as sns\n",
    "import matplotlib.pyplot as plt"
   ]
  },
  {
   "cell_type": "code",
   "execution_count": 2,
   "id": "4caf900f",
   "metadata": {},
   "outputs": [
    {
     "data": {
      "text/plain": [
       "'C:/Users/CSH/Projects/SSU'"
      ]
     },
     "execution_count": 2,
     "metadata": {},
     "output_type": "execute_result"
    }
   ],
   "source": [
    "currentPath = os.getcwd().replace('\\\\','/')\n",
    "currentPath"
   ]
  },
  {
   "cell_type": "code",
   "execution_count": 3,
   "id": "22482ce2",
   "metadata": {},
   "outputs": [
    {
     "name": "stdout",
     "output_type": "stream",
     "text": [
      "Number of train images : 13\n"
     ]
    }
   ],
   "source": [
    "input_dir = currentPath+\"/example_test_data/\"\n",
    "input_files = os.listdir(os.path.join(input_dir))\n",
    "print(f\"Number of train images : {len(input_files)}\")"
   ]
  },
  {
   "cell_type": "code",
   "execution_count": 4,
   "id": "df02293d",
   "metadata": {},
   "outputs": [],
   "source": [
    "import cv2"
   ]
  },
  {
   "cell_type": "code",
   "execution_count": 5,
   "id": "ad8bec33",
   "metadata": {},
   "outputs": [
    {
     "name": "stdout",
     "output_type": "stream",
     "text": [
      "{(4032, 3024, 3): 2, (3024, 3024, 3): 4, (2436, 1125, 3): 4, (1440, 1080, 3): 1, (1504, 1128, 3): 1, (1334, 1334, 3): 1}\n"
     ]
    }
   ],
   "source": [
    "img_shapes = {}\n",
    "for image_name in os.listdir(os.path.join(input_dir)) :\n",
    "    image = cv2.imread(os.path.join(input_dir, image_name))\n",
    "    img_shapes[image.shape] = img_shapes.get(image.shape, 0)+1\n",
    "    \n",
    "print(img_shapes)"
   ]
  },
  {
   "cell_type": "code",
   "execution_count": 6,
   "id": "3718b980",
   "metadata": {},
   "outputs": [],
   "source": [
    "from PIL import Image"
   ]
  },
  {
   "cell_type": "code",
   "execution_count": 7,
   "id": "e5371123",
   "metadata": {},
   "outputs": [],
   "source": [
    "def downscale(img, x) :\n",
    "    if x>1280 :\n",
    "        print(\"Down Scale not available. maximum size is 1280\")\n",
    "        return\n",
    "    \n",
    "    y = int(0.75*x)\n",
    "    print(x)\n",
    "    print(y)\n",
    "    try :\n",
    "        img = cv2.resize(img, (x, y), interpolation=cv2.INTER_AREA)\n",
    "        cv2.imshow('new_img', img)\n",
    "        print(img.shape)\n",
    "    except :\n",
    "        return img\n",
    "    return img"
   ]
  },
  {
   "cell_type": "code",
   "execution_count": 8,
   "id": "5c64615d",
   "metadata": {},
   "outputs": [
    {
     "data": {
      "text/plain": [
       "[]"
      ]
     },
     "execution_count": 8,
     "metadata": {},
     "output_type": "execute_result"
    }
   ],
   "source": [
    "files = glob.glob(\"./example_test_data/*.png\")\n",
    "files"
   ]
  },
  {
   "cell_type": "code",
   "execution_count": 9,
   "id": "05a13dde",
   "metadata": {},
   "outputs": [],
   "source": [
    "for name in files :\n",
    "    if not os.path.isdir(name) :\n",
    "        src = os.path.splitext(name)\n",
    "        os.rename(name, src[0]+'.jpg')"
   ]
  },
  {
   "cell_type": "code",
   "execution_count": 10,
   "id": "4acd48b0",
   "metadata": {},
   "outputs": [],
   "source": [
    "files = glob.glob(\"./example_test_data/*.jpeg\")"
   ]
  },
  {
   "cell_type": "code",
   "execution_count": 11,
   "id": "10153119",
   "metadata": {},
   "outputs": [],
   "source": [
    "for name in files :\n",
    "    if not os.path.isdir(name) :\n",
    "        src = os.path.splitext(name)\n",
    "        os.rename(name, src[0]+'.jpg')"
   ]
  },
  {
   "cell_type": "code",
   "execution_count": 30,
   "id": "8a92a25e",
   "metadata": {},
   "outputs": [
    {
     "name": "stdout",
     "output_type": "stream",
     "text": [
      "500\n",
      "375\n",
      "500\n",
      "375\n",
      "500\n",
      "375\n",
      "500\n",
      "375\n",
      "500\n",
      "375\n",
      "500\n",
      "375\n",
      "500\n",
      "375\n",
      "500\n",
      "375\n",
      "500\n",
      "375\n",
      "500\n",
      "375\n",
      "500\n",
      "375\n",
      "500\n",
      "375\n",
      "500\n",
      "375\n"
     ]
    }
   ],
   "source": [
    "i=0\n",
    "for image_name in os.listdir(os.path.join(input_dir)) :    \n",
    "    title, ext = os.path.splitext(image_name)\n",
    "    sample = Image.open(input_dir+image_name)\n",
    "    #x=500\n",
    "    #y=int(0.75*x)\n",
    "    #result = sample.resize((x,y))\n",
    "    result=downscale(sample, 500)\n",
    "    try :\n",
    "        result.save(\"./example_test_data2/\"+title+\"_resize\"+\".jpg\")\n",
    "    except :\n",
    "        result = result.convert(\"RGB\")\n",
    "        result.save(\"./example_test_data2/\"+title+\"_resize\"+\".jpg\")\n",
    "    #sample = cv2.imread(image_name)\n",
    "    #result = downscale(sample, 500)\n",
    "    \n",
    "    #cv2.waitKey(0)\n",
    "    #cv2.destroyAllWindows()\n",
    "    \n",
    "    #except Exception as e:\n",
    "        #print(str(e))"
   ]
  },
  {
   "cell_type": "code",
   "execution_count": 31,
   "id": "24ca701d",
   "metadata": {},
   "outputs": [],
   "source": [
    "def create_mask_for_image(image):\n",
    "    image_hsv = cv2.cvtColor(image, cv2.COLOR_BGR2HSV)\n",
    "\n",
    "    lower_hsv = np.array([0,0,250])\n",
    "    upper_hsv = np.array([250,255,255])\n",
    "    \n",
    "    mask = cv2.inRange(image_hsv, lower_hsv, upper_hsv)\n",
    "    kernel = cv2.getStructuringElement(cv2.MORPH_ELLIPSE, (11,11))\n",
    "    mask = cv2.morphologyEx(mask, cv2.MORPH_CLOSE, kernel)\n",
    "    return mask\n",
    "\n",
    "#image  deskew function\n",
    "def  deskew_image(image):\n",
    "    mask = create_mask_for_image(image)\n",
    "    output = cv2.bitwise_and(image, image, mask = mask)\n",
    "    return output/255\n",
    "\n",
    "#image  gray  function\n",
    "def  gray_image(image):\n",
    "    #mask = create_mask_for_image(image)\n",
    "    output = cv2.cvtColor(image,cv2.COLOR_BGR2GRAY)\n",
    "    return output/255\n",
    "\n",
    "#image  thresh  function\n",
    "def  thresh_image(image):\n",
    "    gray = cv2.cvtColor(img,cv2.COLOR_BGR2GRAY)\n",
    "    output = cv2.threshold(gray,0,255,cv2.THRESH_BINARY_INV) #+cv.THRESH_OTSU)\n",
    "    return output\n",
    "\n",
    "\n",
    "#image  rnoise  function\n",
    "def  rnoise_image(image):\n",
    "    mask = create_mask_for_image(image)\n",
    "    output = cv2.bitwise_and(image, image, mask = mask)\n",
    "    return output/255\n",
    "\n",
    "#image  dilate  function\n",
    "def  dilate_image(image):\n",
    "    mask = create_mask_for_image(image)\n",
    "    output = cv2.bitwise_and(image, image, mask = mask)\n",
    "    return output/255\n",
    "\n",
    "\n",
    "#image  erode  function\n",
    "def  erode_image(image):\n",
    "    mask = create_mask_for_image(image)\n",
    "    output = cv2.bitwise_and(image, image, mask = mask)\n",
    "    return output/255\n",
    "\n",
    "\n",
    "\n",
    "#image  opening  function\n",
    "def  opening_image(image):\n",
    "    mask = create_mask_for_image(image)\n",
    "    output = cv2.bitwise_and(image, image, mask = mask)\n",
    "    return output/255\n",
    "\n",
    "#image canny function\n",
    "def  canny_image(image):\n",
    "    mask = create_mask_for_image(image)\n",
    "    output = cv2.bitwise_and(image, image, mask = mask)\n",
    "    return output/255\n",
    "\n",
    "\n",
    "#image segmentation function\n",
    "def segment_image(image):\n",
    "    mask = create_mask_for_image(image)\n",
    "    output = cv2.bitwise_and(image, image, mask = mask)\n",
    "    return output/255\n",
    "\n",
    "\n",
    "#sharpen the image\n",
    "def sharpen_image(image):\n",
    "    image_blurred = cv2.GaussianBlur(image, (0, 0), 3)\n",
    "    image_sharp = cv2.addWeighted(image, 1.5, image_blurred, -0.5, 0)\n",
    "    return image_sharp\n",
    "\n",
    "\n",
    "# function to get an image\n",
    "def read_img(image_id, labels):\n",
    "    plt.figure(figsize=(16, 12))\n",
    "    img = cv2.imread(os.path.join(Cassava_dir, \"train_images\", image_id))\n",
    "    #convert image to array\n",
    "    #img = image.img_to_array(img)\n",
    "    return img"
   ]
  },
  {
   "cell_type": "code",
   "execution_count": 32,
   "id": "4ed49dff",
   "metadata": {},
   "outputs": [
    {
     "name": "stdout",
     "output_type": "stream",
     "text": [
      "Number of train images : 13\n"
     ]
    }
   ],
   "source": [
    "input_dir2 = currentPath+\"/example_test_data2/\"\n",
    "input_files = os.listdir(os.path.join(input_dir2))\n",
    "print(f\"Number of train images : {len(input_files)}\")"
   ]
  },
  {
   "cell_type": "code",
   "execution_count": 37,
   "id": "d1637974",
   "metadata": {},
   "outputs": [],
   "source": [
    "img_info = {}\n",
    "i = 0\n",
    "for image_name in os.listdir(os.path.join(input_dir2)) :\n",
    "    image = cv2.imread(os.path.join(input_dir, image_name))\n",
    "    img_info[i] = image_name"
   ]
  },
  {
   "cell_type": "code",
   "execution_count": 38,
   "id": "672fa328",
   "metadata": {},
   "outputs": [
    {
     "data": {
      "text/plain": [
       "'0013_resize.jpg'"
      ]
     },
     "execution_count": 38,
     "metadata": {},
     "output_type": "execute_result"
    }
   ],
   "source": [
    "img_info[0]"
   ]
  },
  {
   "cell_type": "code",
   "execution_count": null,
   "id": "201b892c",
   "metadata": {},
   "outputs": [],
   "source": [
    "nb_rows = 3\n",
    "nb_cols = 5\n",
    "fig, axs = plt.subplots(nb_rows, nb_cols, figsize=(15,5))\n",
    "plt.suptitle(\"SAMPLE IMAGE\")\n",
    "for i in range(0, nb_rows):\n",
    "    for j in range(0, nb_cols) :\n",
    "        axs[i, j].xaxis.set_ticklabels([]);\n",
    "        axs[i, j].yaxis.set_ticklabels([]);\n",
    "        axs[i, j].imshow((read_img(df['image_id'][np.random.randint(1400)], (255,255)))/255.);\n",
    "plt.show();"
   ]
  },
  {
   "cell_type": "code",
   "execution_count": null,
   "id": "d5d0a4fd",
   "metadata": {},
   "outputs": [],
   "source": []
  }
 ],
 "metadata": {
  "kernelspec": {
   "display_name": "Python 3",
   "language": "python",
   "name": "python3"
  },
  "language_info": {
   "codemirror_mode": {
    "name": "ipython",
    "version": 3
   },
   "file_extension": ".py",
   "mimetype": "text/x-python",
   "name": "python",
   "nbconvert_exporter": "python",
   "pygments_lexer": "ipython3",
   "version": "3.8.8"
  }
 },
 "nbformat": 4,
 "nbformat_minor": 5
}
