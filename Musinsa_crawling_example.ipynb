{
 "cells": [
  {
   "cell_type": "code",
   "execution_count": 33,
   "id": "1341f948",
   "metadata": {},
   "outputs": [],
   "source": [
    "import urllib.request\n",
    "import pandas as pd\n",
    "from urllib.parse import quote_plus # 아스키 코드로 변환해준다\n",
    "from bs4 import BeautifulSoup\n",
    "import selenium\n",
    "from selenium import webdriver as wd\n",
    "import time"
   ]
  },
  {
   "cell_type": "code",
   "execution_count": 34,
   "id": "8c94c9a3",
   "metadata": {},
   "outputs": [],
   "source": [
    "def musinsaCrawling(pageNum) :\n",
    "    baseUrl = 'https://store.musinsa.com/app/product/search?search_type=1&q='\n",
    "    baseUrl1 = '&page='\n",
    "    url = baseUrl + quote_plus(plusUrl) + baseUrl1 + str(pageNum)\n",
    "    driver = wd.Chrome(r'C:\\Users\\CSH\\Projects\\chromedriver.exe')\n",
    "    driver.get(url)\n",
    "    time.sleep(3)\n",
    "    \n",
    "    pageString = driver.page_source\n",
    "    soup = BeautifulSoup(pageString, features=\"html.parser\")\n",
    "    \n",
    "    result1 = soup.find(name='ul', attrs={'class':'snap-article-list boxed-article-list article-list center list goods_small_media8'})\n",
    "    result2 = result1.find_all(name=\"img\")\n",
    "    \n",
    "    for i in result2 :\n",
    "        try :\n",
    "            image = i.attrs['data-original']\n",
    "            reallink.append(image)\n",
    "        except :\n",
    "            continue\n",
    "            \n",
    "    print(reallink)\n",
    "    driver.close()"
   ]
  },
  {
   "cell_type": "code",
   "execution_count": 35,
   "id": "96016318",
   "metadata": {},
   "outputs": [
    {
     "name": "stdout",
     "output_type": "stream",
     "text": [
      "검색할 옷을 입력하시오 : 스트라이프맨투맨\n"
     ]
    }
   ],
   "source": [
    "plusUrl = input('검색할 옷을 입력하시오 : ')#[\"\"] #안에 검색할 옷의 종류 나열하기\n",
    "reallink = []"
   ]
  },
  {
   "cell_type": "code",
   "execution_count": 36,
   "id": "bb4ca2ea",
   "metadata": {},
   "outputs": [
    {
     "name": "stderr",
     "output_type": "stream",
     "text": [
      "<ipython-input-36-fb921e57ad8f>:4: DeprecationWarning: executable_path has been deprecated, please pass in a Service object\n",
      "  driver = wd.Chrome(r'C:\\Users\\CSH\\Projects\\chromedriver.exe')\n"
     ]
    }
   ],
   "source": [
    "baseUrl = 'https://store.musinsa.com/app/product/search?search_type=1&q='\n",
    "baseUrl1 = '&page=1'\n",
    "url = baseUrl + quote_plus(plusUrl) + baseUrl1\n",
    "driver = wd.Chrome(r'C:\\Users\\CSH\\Projects\\chromedriver.exe')\n",
    "driver.get(url)\n",
    "time.sleep(3)"
   ]
  },
  {
   "cell_type": "code",
   "execution_count": 37,
   "id": "f88b9376",
   "metadata": {},
   "outputs": [],
   "source": [
    "pageString = driver.page_source\n",
    "soup = BeautifulSoup(pageString, features=\"html.parser\")\n",
    "pageN = soup.find(\"span\", {\"class\" : \"totalPagingNum\"})\n",
    "if pageN is not None :\n",
    "    pageNum = int(pageN.text)\n",
    "driver.close()"
   ]
  },
  {
   "cell_type": "code",
   "execution_count": 38,
   "id": "3e7a04d5",
   "metadata": {},
   "outputs": [
    {
     "ename": "TypeError",
     "evalue": "unsupported operand type(s) for +: 'NoneType' and 'int'",
     "output_type": "error",
     "traceback": [
      "\u001b[1;31m---------------------------------------------------------------------------\u001b[0m",
      "\u001b[1;31mTypeError\u001b[0m                                 Traceback (most recent call last)",
      "\u001b[1;32m<ipython-input-38-c761b3232ebf>\u001b[0m in \u001b[0;36m<module>\u001b[1;34m\u001b[0m\n\u001b[1;32m----> 1\u001b[1;33m \u001b[1;32mfor\u001b[0m \u001b[0mi\u001b[0m \u001b[1;32min\u001b[0m \u001b[0mrange\u001b[0m\u001b[1;33m(\u001b[0m\u001b[1;36m1\u001b[0m\u001b[1;33m,\u001b[0m \u001b[0mpageNum\u001b[0m\u001b[1;33m+\u001b[0m\u001b[1;36m1\u001b[0m\u001b[1;33m)\u001b[0m \u001b[1;33m:\u001b[0m\u001b[1;33m\u001b[0m\u001b[1;33m\u001b[0m\u001b[0m\n\u001b[0m\u001b[0;32m      2\u001b[0m     \u001b[0mmusinsaCrawling\u001b[0m\u001b[1;33m(\u001b[0m\u001b[0mi\u001b[0m\u001b[1;33m)\u001b[0m\u001b[1;33m\u001b[0m\u001b[1;33m\u001b[0m\u001b[0m\n",
      "\u001b[1;31mTypeError\u001b[0m: unsupported operand type(s) for +: 'NoneType' and 'int'"
     ]
    }
   ],
   "source": [
    "for i in range(1, pageNum+1) :\n",
    "    musinsaCrawling(i)"
   ]
  },
  {
   "cell_type": "code",
   "execution_count": 39,
   "id": "30d7fbcb",
   "metadata": {},
   "outputs": [
    {
     "name": "stdout",
     "output_type": "stream",
     "text": [
      "[]\n"
     ]
    }
   ],
   "source": [
    "print(reallink)"
   ]
  },
  {
   "cell_type": "code",
   "execution_count": 40,
   "id": "aef78251",
   "metadata": {},
   "outputs": [
    {
     "ename": "SyntaxError",
     "evalue": "invalid syntax (<ipython-input-40-8129c7697da3>, line 1)",
     "output_type": "error",
     "traceback": [
      "\u001b[1;36m  File \u001b[1;32m\"<ipython-input-40-8129c7697da3>\"\u001b[1;36m, line \u001b[1;32m1\u001b[0m\n\u001b[1;33m    if plusUrl = '스몰로고맨투맨' :\u001b[0m\n\u001b[1;37m               ^\u001b[0m\n\u001b[1;31mSyntaxError\u001b[0m\u001b[1;31m:\u001b[0m invalid syntax\n"
     ]
    }
   ],
   "source": [
    "if plusUrl = '스몰로고맨투맨' :\n",
    "    title = 'small logo sweatshir'\n",
    "elif plusUrl = '빅로고맨투맨' :\n",
    "    title = 'big logo sweatshir'\n",
    "elif plusUrl = '스트라이프맨투맨' :\n",
    "    title = 'stripe sweatshir'"
   ]
  },
  {
   "cell_type": "code",
   "execution_count": 41,
   "id": "5510ebae",
   "metadata": {},
   "outputs": [
    {
     "ename": "NameError",
     "evalue": "name 'title' is not defined",
     "output_type": "error",
     "traceback": [
      "\u001b[1;31m---------------------------------------------------------------------------\u001b[0m",
      "\u001b[1;31mNameError\u001b[0m                                 Traceback (most recent call last)",
      "\u001b[1;32m<ipython-input-41-492042f6dec5>\u001b[0m in \u001b[0;36m<module>\u001b[1;34m\u001b[0m\n\u001b[1;32m----> 1\u001b[1;33m \u001b[0mprint\u001b[0m\u001b[1;33m(\u001b[0m\u001b[1;34m'title = '\u001b[0m \u001b[1;33m+\u001b[0m \u001b[0mtitle\u001b[0m\u001b[1;33m)\u001b[0m\u001b[1;33m\u001b[0m\u001b[1;33m\u001b[0m\u001b[0m\n\u001b[0m\u001b[0;32m      2\u001b[0m \u001b[0mn\u001b[0m \u001b[1;33m=\u001b[0m \u001b[1;36m1\u001b[0m\u001b[1;33m\u001b[0m\u001b[1;33m\u001b[0m\u001b[0m\n\u001b[0;32m      3\u001b[0m \u001b[1;32mfor\u001b[0m \u001b[0mi\u001b[0m \u001b[1;32min\u001b[0m \u001b[0mrange\u001b[0m\u001b[1;33m(\u001b[0m\u001b[1;36m0\u001b[0m\u001b[1;33m,\u001b[0m \u001b[0mlen\u001b[0m\u001b[1;33m(\u001b[0m\u001b[0mreallink\u001b[0m\u001b[1;33m)\u001b[0m\u001b[1;33m)\u001b[0m \u001b[1;33m:\u001b[0m\u001b[1;33m\u001b[0m\u001b[1;33m\u001b[0m\u001b[0m\n\u001b[0;32m      4\u001b[0m     \u001b[0murllib\u001b[0m\u001b[1;33m.\u001b[0m\u001b[0mrequest\u001b[0m\u001b[1;33m.\u001b[0m\u001b[0murlretrieve\u001b[0m\u001b[1;33m(\u001b[0m\u001b[1;34m\"http:\"\u001b[0m\u001b[1;33m+\u001b[0m\u001b[0mreallink\u001b[0m\u001b[1;33m[\u001b[0m\u001b[0mi\u001b[0m\u001b[1;33m]\u001b[0m\u001b[1;33m,\u001b[0m \u001b[1;34m\"C:\\\\Users\\\\CSH\\\\Projects\\\\SSU\\\\OpenSource\\\\example_musinsa\\\\\"\u001b[0m \u001b[1;33m+\u001b[0m \u001b[0mtitle\u001b[0m \u001b[1;33m+\u001b[0m \u001b[1;34m\"(\"\u001b[0m\u001b[1;33m+\u001b[0m\u001b[0mstr\u001b[0m\u001b[1;33m(\u001b[0m\u001b[0mn\u001b[0m\u001b[1;33m)\u001b[0m\u001b[1;33m+\u001b[0m\u001b[1;34m\")\"\u001b[0m\u001b[1;33m+\u001b[0m\u001b[1;34m\".jpg\"\u001b[0m\u001b[1;33m)\u001b[0m \u001b[1;31m#link 수정\u001b[0m\u001b[1;33m\u001b[0m\u001b[1;33m\u001b[0m\u001b[0m\n\u001b[0;32m      5\u001b[0m     \u001b[0mn\u001b[0m\u001b[1;33m+=\u001b[0m\u001b[1;36m1\u001b[0m\u001b[1;33m\u001b[0m\u001b[1;33m\u001b[0m\u001b[0m\n",
      "\u001b[1;31mNameError\u001b[0m: name 'title' is not defined"
     ]
    }
   ],
   "source": [
    "print('title = ' + title)\n",
    "n = 1\n",
    "for i in range(0, len(reallink)) :\n",
    "    urllib.request.urlretrieve(\"http:\"+reallink[i], \"C:\\\\Users\\\\CSH\\\\Projects\\\\SSU\\\\OpenSource\\\\example_musinsa\\\\\" + title + \"(\"+str(n)+\")\"+\".jpg\") #link 수정\n",
    "    n+=1"
   ]
  },
  {
   "cell_type": "code",
   "execution_count": null,
   "id": "94fe262c",
   "metadata": {},
   "outputs": [],
   "source": []
  }
 ],
 "metadata": {
  "kernelspec": {
   "display_name": "Python 3",
   "language": "python",
   "name": "python3"
  },
  "language_info": {
   "codemirror_mode": {
    "name": "ipython",
    "version": 3
   },
   "file_extension": ".py",
   "mimetype": "text/x-python",
   "name": "python",
   "nbconvert_exporter": "python",
   "pygments_lexer": "ipython3",
   "version": "3.8.8"
  }
 },
 "nbformat": 4,
 "nbformat_minor": 5
}
